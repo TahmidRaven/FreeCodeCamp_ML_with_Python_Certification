{
 "cells": [
  {
   "cell_type": "code",
   "execution_count": 1,
   "id": "1c908f00",
   "metadata": {
    "_cell_guid": "b1076dfc-b9ad-4769-8c92-a6c4dae69d19",
    "_uuid": "8f2839f25d086af736a60e9eeb907d3b93b6e0e5",
    "execution": {
     "iopub.execute_input": "2025-01-21T01:56:37.895426Z",
     "iopub.status.busy": "2025-01-21T01:56:37.895004Z",
     "iopub.status.idle": "2025-01-21T01:56:38.837535Z",
     "shell.execute_reply": "2025-01-21T01:56:38.836156Z"
    },
    "papermill": {
     "duration": 0.948684,
     "end_time": "2025-01-21T01:56:38.839758",
     "exception": false,
     "start_time": "2025-01-21T01:56:37.891074",
     "status": "completed"
    },
    "tags": []
   },
   "outputs": [
    {
     "name": "stdout",
     "output_type": "stream",
     "text": [
      "/kaggle/input/houses-in-london/london_houses.csv\n"
     ]
    }
   ],
   "source": [
    "# This Python 3 environment comes with many helpful analytics libraries installed\n",
    "# It is defined by the kaggle/python Docker image: https://github.com/kaggle/docker-python\n",
    "# For example, here's several helpful packages to load\n",
    "\n",
    "import numpy as np # linear algebra\n",
    "import pandas as pd # data processing, CSV file I/O (e.g. pd.read_csv)\n",
    "\n",
    "# Input data files are available in the read-only \"../input/\" directory\n",
    "# For example, running this (by clicking run or pressing Shift+Enter) will list all files under the input directory\n",
    "\n",
    "import os\n",
    "for dirname, _, filenames in os.walk('/kaggle/input'):\n",
    "    for filename in filenames:\n",
    "        print(os.path.join(dirname, filename))\n",
    "\n",
    "# You can write up to 20GB to the current directory (/kaggle/working/) that gets preserved as output when you create a version using \"Save & Run All\" \n",
    "# You can also write temporary files to /kaggle/temp/, but they won't be saved outside of the current session"
   ]
  },
  {
   "cell_type": "code",
   "execution_count": 2,
   "id": "58380b7b",
   "metadata": {
    "execution": {
     "iopub.execute_input": "2025-01-21T01:56:38.846168Z",
     "iopub.status.busy": "2025-01-21T01:56:38.845580Z",
     "iopub.status.idle": "2025-01-21T01:56:38.896714Z",
     "shell.execute_reply": "2025-01-21T01:56:38.895624Z"
    },
    "papermill": {
     "duration": 0.05676,
     "end_time": "2025-01-21T01:56:38.899218",
     "exception": false,
     "start_time": "2025-01-21T01:56:38.842458",
     "status": "completed"
    },
    "tags": []
   },
   "outputs": [
    {
     "name": "stdout",
     "output_type": "stream",
     "text": [
      "                   Address  Neighborhood  Bedrooms  Bathrooms  Square Meters  \\\n",
      "0         78 Regent Street  Notting Hill         2          3            179   \n",
      "1        198 Oxford Street   Westminster         2          1            123   \n",
      "2         18 Regent Street          Soho         5          3            168   \n",
      "3     39 Piccadilly Circus     Islington         5          1            237   \n",
      "4         116 Fleet Street    Marylebone         4          1            127   \n",
      "..                     ...           ...       ...        ...            ...   \n",
      "995  44 Camden High Street   Westminster         1          3             81   \n",
      "996          165 Park Lane        Camden         1          1             65   \n",
      "997  99 Camden High Street        Camden         4          1            191   \n",
      "998          155 Park Lane        Camden         5          2            131   \n",
      "999       145 Baker Street    Kensington         4          2            185   \n",
      "\n",
      "     Building Age Garden Garage  Floors   Property Type        Heating Type  \\\n",
      "0              72     No     No       3   Semi-Detached    Electric Heating   \n",
      "1              34    Yes     No       1       Apartment     Central Heating   \n",
      "2              38     No    Yes       3   Semi-Detached     Central Heating   \n",
      "3              53    Yes    Yes       1       Apartment  Underfloor Heating   \n",
      "4              23     No    Yes       2   Semi-Detached     Central Heating   \n",
      "..            ...    ...    ...     ...             ...                 ...   \n",
      "995             4    Yes    Yes       2   Semi-Detached     Central Heating   \n",
      "996            51     No     No       1       Apartment  Underfloor Heating   \n",
      "997            27     No    Yes       2   Semi-Detached     Central Heating   \n",
      "998             3    Yes     No       2  Detached House  Underfloor Heating   \n",
      "999            53     No     No       1       Apartment    Electric Heating   \n",
      "\n",
      "                Balcony Interior Style    View          Materials  \\\n",
      "0    High-level Balcony     Industrial  Garden             Marble   \n",
      "1    High-level Balcony     Industrial    City  Laminate Flooring   \n",
      "2            No Balcony     Industrial  Street               Wood   \n",
      "3            No Balcony        Classic    Park            Granite   \n",
      "4            No Balcony         Modern    Park               Wood   \n",
      "..                  ...            ...     ...                ...   \n",
      "995   Low-level Balcony         Modern  Street  Laminate Flooring   \n",
      "996          No Balcony     Industrial  Garden               Wood   \n",
      "997   Low-level Balcony     Minimalist    Park  Laminate Flooring   \n",
      "998  High-level Balcony         Modern    Park  Laminate Flooring   \n",
      "999          No Balcony         Modern  Street               Wood   \n",
      "\n",
      "    Building Status  Price (£)  \n",
      "0         Renovated    2291200  \n",
      "1               Old    1476000  \n",
      "2         Renovated    1881600  \n",
      "3         Renovated    1896000  \n",
      "4               Old    1524000  \n",
      "..              ...        ...  \n",
      "995       Renovated    1166400  \n",
      "996             Old     563333  \n",
      "997             Old    1986399  \n",
      "998       Renovated    1703000  \n",
      "999             Old    2343333  \n",
      "\n",
      "[1000 rows x 17 columns]\n"
     ]
    }
   ],
   "source": [
    "\n",
    "\n",
    "import pandas as pd\n",
    "df = pd.read_csv(\"/kaggle/input/houses-in-london/london_houses.csv\")\n",
    "print(df)"
   ]
  },
  {
   "cell_type": "code",
   "execution_count": 3,
   "id": "6036e326",
   "metadata": {
    "execution": {
     "iopub.execute_input": "2025-01-21T01:56:38.905321Z",
     "iopub.status.busy": "2025-01-21T01:56:38.904892Z",
     "iopub.status.idle": "2025-01-21T01:56:38.910422Z",
     "shell.execute_reply": "2025-01-21T01:56:38.909204Z"
    },
    "papermill": {
     "duration": 0.010138,
     "end_time": "2025-01-21T01:56:38.911907",
     "exception": false,
     "start_time": "2025-01-21T01:56:38.901769",
     "status": "completed"
    },
    "tags": []
   },
   "outputs": [
    {
     "name": "stdout",
     "output_type": "stream",
     "text": [
      "(1000, 17)\n"
     ]
    }
   ],
   "source": [
    "print(df.shape)"
   ]
  },
  {
   "cell_type": "code",
   "execution_count": 4,
   "id": "a104f23d",
   "metadata": {
    "execution": {
     "iopub.execute_input": "2025-01-21T01:56:38.917659Z",
     "iopub.status.busy": "2025-01-21T01:56:38.917326Z",
     "iopub.status.idle": "2025-01-21T01:56:38.927551Z",
     "shell.execute_reply": "2025-01-21T01:56:38.926298Z"
    },
    "papermill": {
     "duration": 0.015074,
     "end_time": "2025-01-21T01:56:38.929461",
     "exception": false,
     "start_time": "2025-01-21T01:56:38.914387",
     "status": "completed"
    },
    "tags": []
   },
   "outputs": [
    {
     "name": "stdout",
     "output_type": "stream",
     "text": [
      "                Address  Neighborhood  Bedrooms  Bathrooms  Square Meters  \\\n",
      "0      78 Regent Street  Notting Hill         2          3            179   \n",
      "1     198 Oxford Street   Westminster         2          1            123   \n",
      "2      18 Regent Street          Soho         5          3            168   \n",
      "3  39 Piccadilly Circus     Islington         5          1            237   \n",
      "4      116 Fleet Street    Marylebone         4          1            127   \n",
      "\n",
      "   Building Age Garden Garage  Floors  Property Type        Heating Type  \\\n",
      "0            72     No     No       3  Semi-Detached    Electric Heating   \n",
      "1            34    Yes     No       1      Apartment     Central Heating   \n",
      "2            38     No    Yes       3  Semi-Detached     Central Heating   \n",
      "3            53    Yes    Yes       1      Apartment  Underfloor Heating   \n",
      "4            23     No    Yes       2  Semi-Detached     Central Heating   \n",
      "\n",
      "              Balcony Interior Style    View          Materials  \\\n",
      "0  High-level Balcony     Industrial  Garden             Marble   \n",
      "1  High-level Balcony     Industrial    City  Laminate Flooring   \n",
      "2          No Balcony     Industrial  Street               Wood   \n",
      "3          No Balcony        Classic    Park            Granite   \n",
      "4          No Balcony         Modern    Park               Wood   \n",
      "\n",
      "  Building Status  Price (£)  \n",
      "0       Renovated    2291200  \n",
      "1             Old    1476000  \n",
      "2       Renovated    1881600  \n",
      "3       Renovated    1896000  \n",
      "4             Old    1524000  \n"
     ]
    }
   ],
   "source": [
    "print(df.head())"
   ]
  }
 ],
 "metadata": {
  "kaggle": {
   "accelerator": "none",
   "dataSources": [
    {
     "datasetId": 6310047,
     "sourceId": 10209704,
     "sourceType": "datasetVersion"
    }
   ],
   "dockerImageVersionId": 30839,
   "isGpuEnabled": false,
   "isInternetEnabled": true,
   "language": "python",
   "sourceType": "notebook"
  },
  "kernelspec": {
   "display_name": "Python 3",
   "language": "python",
   "name": "python3"
  },
  "language_info": {
   "codemirror_mode": {
    "name": "ipython",
    "version": 3
   },
   "file_extension": ".py",
   "mimetype": "text/x-python",
   "name": "python",
   "nbconvert_exporter": "python",
   "pygments_lexer": "ipython3",
   "version": "3.10.12"
  },
  "papermill": {
   "default_parameters": {},
   "duration": 4.637703,
   "end_time": "2025-01-21T01:56:39.655664",
   "environment_variables": {},
   "exception": null,
   "input_path": "__notebook__.ipynb",
   "output_path": "__notebook__.ipynb",
   "parameters": {},
   "start_time": "2025-01-21T01:56:35.017961",
   "version": "2.6.0"
  }
 },
 "nbformat": 4,
 "nbformat_minor": 5
}
